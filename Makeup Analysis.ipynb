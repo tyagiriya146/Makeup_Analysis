{
 "cells": [
  {
   "cell_type": "markdown",
   "id": "ed73d27a",
   "metadata": {},
   "source": [
    "##### Preparing the Environment\n",
    "We will import the required libraries and read the data set.\n",
    "\n",
    "`Pandas` - Data manipulation\n",
    "`Numpy` - Data arrays\n",
    "`Matplotlib & Seaborn` - Data visualisation\n"
   ]
  },
  {
   "cell_type": "code",
   "execution_count": 41,
   "id": "828928c8",
   "metadata": {},
   "outputs": [],
   "source": [
    "# import libraries and alias for easy reading\n",
    "import pandas as pd\n",
    "import numpy as np\n",
    "import matplotlib.pyplot as plt\n",
    "import seaborn as sns"
   ]
  },
  {
   "cell_type": "markdown",
   "id": "a50febf6",
   "metadata": {},
   "source": [
    "##### Importing data set"
   ]
  },
  {
   "cell_type": "code",
   "execution_count": 26,
   "id": "79e0eca6",
   "metadata": {},
   "outputs": [],
   "source": [
    "df = pd.read_csv(r\"C:\\Users\\DELL\\Downloads\\shades.csv\")"
   ]
  },
  {
   "cell_type": "markdown",
   "id": "435559cb",
   "metadata": {},
   "source": [
    "##### Data Exploration"
   ]
  },
  {
   "cell_type": "code",
   "execution_count": 94,
   "id": "e7fd27e0",
   "metadata": {},
   "outputs": [
    {
     "data": {
      "text/html": [
       "<div>\n",
       "<style scoped>\n",
       "    .dataframe tbody tr th:only-of-type {\n",
       "        vertical-align: middle;\n",
       "    }\n",
       "\n",
       "    .dataframe tbody tr th {\n",
       "        vertical-align: top;\n",
       "    }\n",
       "\n",
       "    .dataframe thead th {\n",
       "        text-align: right;\n",
       "    }\n",
       "</style>\n",
       "<table border=\"1\" class=\"dataframe\">\n",
       "  <thead>\n",
       "    <tr style=\"text-align: right;\">\n",
       "      <th></th>\n",
       "      <th>brand</th>\n",
       "      <th>brand_short</th>\n",
       "      <th>product</th>\n",
       "      <th>product_short</th>\n",
       "      <th>hex</th>\n",
       "      <th>Hue</th>\n",
       "      <th>saturation</th>\n",
       "      <th>values</th>\n",
       "      <th>lighting</th>\n",
       "      <th>group</th>\n",
       "    </tr>\n",
       "  </thead>\n",
       "  <tbody>\n",
       "    <tr>\n",
       "      <th>0</th>\n",
       "      <td>Maybelline</td>\n",
       "      <td>mb</td>\n",
       "      <td>Fit Me</td>\n",
       "      <td>fmf</td>\n",
       "      <td>f3cfb3</td>\n",
       "      <td>26.0</td>\n",
       "      <td>0.26</td>\n",
       "      <td>0.95</td>\n",
       "      <td>86</td>\n",
       "      <td>2</td>\n",
       "    </tr>\n",
       "    <tr>\n",
       "      <th>1</th>\n",
       "      <td>Maybelline</td>\n",
       "      <td>mb</td>\n",
       "      <td>Fit Me</td>\n",
       "      <td>fmf</td>\n",
       "      <td>ffe3c2</td>\n",
       "      <td>32.0</td>\n",
       "      <td>0.24</td>\n",
       "      <td>1.00</td>\n",
       "      <td>92</td>\n",
       "      <td>2</td>\n",
       "    </tr>\n",
       "    <tr>\n",
       "      <th>2</th>\n",
       "      <td>Maybelline</td>\n",
       "      <td>mb</td>\n",
       "      <td>Fit Me</td>\n",
       "      <td>fmf</td>\n",
       "      <td>ffe0cd</td>\n",
       "      <td>23.0</td>\n",
       "      <td>0.20</td>\n",
       "      <td>1.00</td>\n",
       "      <td>91</td>\n",
       "      <td>2</td>\n",
       "    </tr>\n",
       "    <tr>\n",
       "      <th>3</th>\n",
       "      <td>Maybelline</td>\n",
       "      <td>mb</td>\n",
       "      <td>Fit Me</td>\n",
       "      <td>fmf</td>\n",
       "      <td>ffd3be</td>\n",
       "      <td>19.0</td>\n",
       "      <td>0.25</td>\n",
       "      <td>1.00</td>\n",
       "      <td>88</td>\n",
       "      <td>2</td>\n",
       "    </tr>\n",
       "    <tr>\n",
       "      <th>4</th>\n",
       "      <td>Maybelline</td>\n",
       "      <td>mb</td>\n",
       "      <td>Fit Me</td>\n",
       "      <td>fmf</td>\n",
       "      <td>bd9584</td>\n",
       "      <td>18.0</td>\n",
       "      <td>0.30</td>\n",
       "      <td>0.74</td>\n",
       "      <td>65</td>\n",
       "      <td>2</td>\n",
       "    </tr>\n",
       "    <tr>\n",
       "      <th>5</th>\n",
       "      <td>Maybelline</td>\n",
       "      <td>mb</td>\n",
       "      <td>Fit Me</td>\n",
       "      <td>fmf</td>\n",
       "      <td>eabda6</td>\n",
       "      <td>20.0</td>\n",
       "      <td>0.29</td>\n",
       "      <td>0.92</td>\n",
       "      <td>80</td>\n",
       "      <td>2</td>\n",
       "    </tr>\n",
       "    <tr>\n",
       "      <th>6</th>\n",
       "      <td>Maybelline</td>\n",
       "      <td>mb</td>\n",
       "      <td>Fit Me</td>\n",
       "      <td>fmf</td>\n",
       "      <td>fbd2ad</td>\n",
       "      <td>28.0</td>\n",
       "      <td>0.31</td>\n",
       "      <td>0.98</td>\n",
       "      <td>87</td>\n",
       "      <td>2</td>\n",
       "    </tr>\n",
       "    <tr>\n",
       "      <th>7</th>\n",
       "      <td>Maybelline</td>\n",
       "      <td>mb</td>\n",
       "      <td>Fit Me</td>\n",
       "      <td>fmf</td>\n",
       "      <td>e2b597</td>\n",
       "      <td>24.0</td>\n",
       "      <td>0.33</td>\n",
       "      <td>0.89</td>\n",
       "      <td>77</td>\n",
       "      <td>2</td>\n",
       "    </tr>\n",
       "    <tr>\n",
       "      <th>8</th>\n",
       "      <td>Maybelline</td>\n",
       "      <td>mb</td>\n",
       "      <td>Fit Me</td>\n",
       "      <td>fmf</td>\n",
       "      <td>e4b38e</td>\n",
       "      <td>26.0</td>\n",
       "      <td>0.38</td>\n",
       "      <td>0.89</td>\n",
       "      <td>77</td>\n",
       "      <td>2</td>\n",
       "    </tr>\n",
       "    <tr>\n",
       "      <th>9</th>\n",
       "      <td>Maybelline</td>\n",
       "      <td>mb</td>\n",
       "      <td>Fit Me</td>\n",
       "      <td>fmf</td>\n",
       "      <td>b2856f</td>\n",
       "      <td>20.0</td>\n",
       "      <td>0.38</td>\n",
       "      <td>0.70</td>\n",
       "      <td>60</td>\n",
       "      <td>2</td>\n",
       "    </tr>\n",
       "  </tbody>\n",
       "</table>\n",
       "</div>"
      ],
      "text/plain": [
       "        brand brand_short product product_short     hex   Hue  saturation  \\\n",
       "0  Maybelline          mb  Fit Me           fmf  f3cfb3  26.0        0.26   \n",
       "1  Maybelline          mb  Fit Me           fmf  ffe3c2  32.0        0.24   \n",
       "2  Maybelline          mb  Fit Me           fmf  ffe0cd  23.0        0.20   \n",
       "3  Maybelline          mb  Fit Me           fmf  ffd3be  19.0        0.25   \n",
       "4  Maybelline          mb  Fit Me           fmf  bd9584  18.0        0.30   \n",
       "5  Maybelline          mb  Fit Me           fmf  eabda6  20.0        0.29   \n",
       "6  Maybelline          mb  Fit Me           fmf  fbd2ad  28.0        0.31   \n",
       "7  Maybelline          mb  Fit Me           fmf  e2b597  24.0        0.33   \n",
       "8  Maybelline          mb  Fit Me           fmf  e4b38e  26.0        0.38   \n",
       "9  Maybelline          mb  Fit Me           fmf  b2856f  20.0        0.38   \n",
       "\n",
       "   values  lighting  group  \n",
       "0    0.95        86      2  \n",
       "1    1.00        92      2  \n",
       "2    1.00        91      2  \n",
       "3    1.00        88      2  \n",
       "4    0.74        65      2  \n",
       "5    0.92        80      2  \n",
       "6    0.98        87      2  \n",
       "7    0.89        77      2  \n",
       "8    0.89        77      2  \n",
       "9    0.70        60      2  "
      ]
     },
     "execution_count": 94,
     "metadata": {},
     "output_type": "execute_result"
    }
   ],
   "source": [
    "# preview first 10 rows with all columns\n",
    "df.head(10)"
   ]
  },
  {
   "cell_type": "code",
   "execution_count": 28,
   "id": "6d19b36a",
   "metadata": {},
   "outputs": [
    {
     "name": "stdout",
     "output_type": "stream",
     "text": [
      "<class 'pandas.core.frame.DataFrame'>\n",
      "RangeIndex: 625 entries, 0 to 624\n",
      "Data columns (total 10 columns):\n",
      " #   Column         Non-Null Count  Dtype  \n",
      "---  ------         --------------  -----  \n",
      " 0   brand          625 non-null    object \n",
      " 1   brand_short    625 non-null    object \n",
      " 2   product        625 non-null    object \n",
      " 3   product_short  625 non-null    object \n",
      " 4   hex            625 non-null    object \n",
      " 5   H              613 non-null    float64\n",
      " 6   S              613 non-null    float64\n",
      " 7   V              613 non-null    float64\n",
      " 8   L              625 non-null    int64  \n",
      " 9   group          625 non-null    int64  \n",
      "dtypes: float64(3), int64(2), object(5)\n",
      "memory usage: 49.0+ KB\n"
     ]
    }
   ],
   "source": [
    "# Basic information of dataset\n",
    "df.info()"
   ]
  },
  {
   "cell_type": "code",
   "execution_count": 51,
   "id": "24007a57",
   "metadata": {},
   "outputs": [
    {
     "data": {
      "text/plain": [
       "(609, 10)"
      ]
     },
     "execution_count": 51,
     "metadata": {},
     "output_type": "execute_result"
    }
   ],
   "source": [
    "df.shape"
   ]
  },
  {
   "cell_type": "code",
   "execution_count": 50,
   "id": "96d2d034",
   "metadata": {},
   "outputs": [
    {
     "data": {
      "text/plain": [
       "Index(['brand', 'brand_short', 'product', 'product_short', 'hex', 'H', 'S',\n",
       "       'V', 'L', 'group'],\n",
       "      dtype='object')"
      ]
     },
     "execution_count": 50,
     "metadata": {},
     "output_type": "execute_result"
    }
   ],
   "source": [
    "df.columns"
   ]
  },
  {
   "cell_type": "code",
   "execution_count": 92,
   "id": "2d1d7ee6",
   "metadata": {},
   "outputs": [
    {
     "data": {
      "text/plain": [
       "False    609\n",
       "dtype: int64"
      ]
     },
     "execution_count": 92,
     "metadata": {},
     "output_type": "execute_result"
    }
   ],
   "source": [
    "# Check if the Dataset have any Duplicate\n",
    "df.value_counts();\n",
    "\n",
    "df.duplicated().value_counts()"
   ]
  },
  {
   "cell_type": "code",
   "execution_count": 93,
   "id": "98c11193",
   "metadata": {},
   "outputs": [
    {
     "data": {
      "text/plain": [
       "0"
      ]
     },
     "execution_count": 93,
     "metadata": {},
     "output_type": "execute_result"
    }
   ],
   "source": [
    "df.duplicated().sum()"
   ]
  },
  {
   "cell_type": "code",
   "execution_count": 33,
   "id": "eb6ae72c",
   "metadata": {},
   "outputs": [],
   "source": [
    "# Remove duplicates values\n",
    "# As there is only 4 duplicated row, we drop the row.\n",
    "df.drop_duplicates(inplace=True)"
   ]
  },
  {
   "cell_type": "markdown",
   "id": "f698dddd",
   "metadata": {},
   "source": [
    "##### Handling Missing Values\n",
    "Now, we will find out whether there are Null values."
   ]
  },
  {
   "cell_type": "code",
   "execution_count": 47,
   "id": "4408fc28",
   "metadata": {},
   "outputs": [
    {
     "data": {
      "text/plain": [
       "brand            0\n",
       "brand_short      0\n",
       "product          0\n",
       "product_short    0\n",
       "hex              0\n",
       "H                0\n",
       "S                0\n",
       "V                0\n",
       "L                0\n",
       "group            0\n",
       "dtype: int64"
      ]
     },
     "execution_count": 47,
     "metadata": {},
     "output_type": "execute_result"
    }
   ],
   "source": [
    "df.isnull().sum()"
   ]
  },
  {
   "cell_type": "markdown",
   "id": "553cb4e0",
   "metadata": {},
   "source": [
    "As we can see the following DataFrame shows that missing values in the columns \"H\", \"S\", \"V\""
   ]
  },
  {
   "cell_type": "code",
   "execution_count": 46,
   "id": "cddc30e3",
   "metadata": {},
   "outputs": [],
   "source": [
    "#Drop missing values \n",
    "df.dropna(inplace = True)"
   ]
  },
  {
   "cell_type": "code",
   "execution_count": 36,
   "id": "ff551a48",
   "metadata": {},
   "outputs": [
    {
     "data": {
      "text/plain": [
       "brand            0\n",
       "brand_short      0\n",
       "product          0\n",
       "product_short    0\n",
       "hex              0\n",
       "H                0\n",
       "S                0\n",
       "V                0\n",
       "L                0\n",
       "group            0\n",
       "dtype: int64"
      ]
     },
     "execution_count": 36,
     "metadata": {},
     "output_type": "execute_result"
    }
   ],
   "source": [
    "# Confirm that NULL values have been dropped from data set\n",
    "df.isnull().sum()"
   ]
  },
  {
   "cell_type": "markdown",
   "id": "cd13319a",
   "metadata": {},
   "source": [
    "##### Rename Columns"
   ]
  },
  {
   "cell_type": "code",
   "execution_count": 91,
   "id": "80fc0c4f",
   "metadata": {},
   "outputs": [
    {
     "data": {
      "text/html": [
       "<div>\n",
       "<style scoped>\n",
       "    .dataframe tbody tr th:only-of-type {\n",
       "        vertical-align: middle;\n",
       "    }\n",
       "\n",
       "    .dataframe tbody tr th {\n",
       "        vertical-align: top;\n",
       "    }\n",
       "\n",
       "    .dataframe thead th {\n",
       "        text-align: right;\n",
       "    }\n",
       "</style>\n",
       "<table border=\"1\" class=\"dataframe\">\n",
       "  <thead>\n",
       "    <tr style=\"text-align: right;\">\n",
       "      <th></th>\n",
       "      <th>brand</th>\n",
       "      <th>brand_short</th>\n",
       "      <th>product</th>\n",
       "      <th>product_short</th>\n",
       "      <th>hex</th>\n",
       "      <th>Hue</th>\n",
       "      <th>saturation</th>\n",
       "      <th>values</th>\n",
       "      <th>lighting</th>\n",
       "      <th>group</th>\n",
       "    </tr>\n",
       "  </thead>\n",
       "  <tbody>\n",
       "    <tr>\n",
       "      <th>0</th>\n",
       "      <td>Maybelline</td>\n",
       "      <td>mb</td>\n",
       "      <td>Fit Me</td>\n",
       "      <td>fmf</td>\n",
       "      <td>f3cfb3</td>\n",
       "      <td>26.0</td>\n",
       "      <td>0.26</td>\n",
       "      <td>0.95</td>\n",
       "      <td>86</td>\n",
       "      <td>2</td>\n",
       "    </tr>\n",
       "    <tr>\n",
       "      <th>1</th>\n",
       "      <td>Maybelline</td>\n",
       "      <td>mb</td>\n",
       "      <td>Fit Me</td>\n",
       "      <td>fmf</td>\n",
       "      <td>ffe3c2</td>\n",
       "      <td>32.0</td>\n",
       "      <td>0.24</td>\n",
       "      <td>1.00</td>\n",
       "      <td>92</td>\n",
       "      <td>2</td>\n",
       "    </tr>\n",
       "    <tr>\n",
       "      <th>2</th>\n",
       "      <td>Maybelline</td>\n",
       "      <td>mb</td>\n",
       "      <td>Fit Me</td>\n",
       "      <td>fmf</td>\n",
       "      <td>ffe0cd</td>\n",
       "      <td>23.0</td>\n",
       "      <td>0.20</td>\n",
       "      <td>1.00</td>\n",
       "      <td>91</td>\n",
       "      <td>2</td>\n",
       "    </tr>\n",
       "    <tr>\n",
       "      <th>3</th>\n",
       "      <td>Maybelline</td>\n",
       "      <td>mb</td>\n",
       "      <td>Fit Me</td>\n",
       "      <td>fmf</td>\n",
       "      <td>ffd3be</td>\n",
       "      <td>19.0</td>\n",
       "      <td>0.25</td>\n",
       "      <td>1.00</td>\n",
       "      <td>88</td>\n",
       "      <td>2</td>\n",
       "    </tr>\n",
       "    <tr>\n",
       "      <th>4</th>\n",
       "      <td>Maybelline</td>\n",
       "      <td>mb</td>\n",
       "      <td>Fit Me</td>\n",
       "      <td>fmf</td>\n",
       "      <td>bd9584</td>\n",
       "      <td>18.0</td>\n",
       "      <td>0.30</td>\n",
       "      <td>0.74</td>\n",
       "      <td>65</td>\n",
       "      <td>2</td>\n",
       "    </tr>\n",
       "  </tbody>\n",
       "</table>\n",
       "</div>"
      ],
      "text/plain": [
       "        brand brand_short product product_short     hex   Hue  saturation  \\\n",
       "0  Maybelline          mb  Fit Me           fmf  f3cfb3  26.0        0.26   \n",
       "1  Maybelline          mb  Fit Me           fmf  ffe3c2  32.0        0.24   \n",
       "2  Maybelline          mb  Fit Me           fmf  ffe0cd  23.0        0.20   \n",
       "3  Maybelline          mb  Fit Me           fmf  ffd3be  19.0        0.25   \n",
       "4  Maybelline          mb  Fit Me           fmf  bd9584  18.0        0.30   \n",
       "\n",
       "   values  lighting  group  \n",
       "0    0.95        86      2  \n",
       "1    1.00        92      2  \n",
       "2    1.00        91      2  \n",
       "3    1.00        88      2  \n",
       "4    0.74        65      2  "
      ]
     },
     "execution_count": 91,
     "metadata": {},
     "output_type": "execute_result"
    }
   ],
   "source": [
    "df.head()"
   ]
  },
  {
   "cell_type": "code",
   "execution_count": 54,
   "id": "53300322",
   "metadata": {},
   "outputs": [],
   "source": [
    "# Renaming \"H\",\"S\",\"V\",\"L\" to \"Hue\",\"Saturation\" ,\"Lightness\",\"Values\" would be much easier to work with dataset also helps make column names easy to remember.\n",
    "\n",
    "df.rename(columns={'H'\t:'Hue','S': 'saturation','L': 'lighting' ,'V' : 'values'}, inplace=True)"
   ]
  },
  {
   "cell_type": "code",
   "execution_count": 55,
   "id": "3e96668d",
   "metadata": {},
   "outputs": [
    {
     "data": {
      "text/html": [
       "<div>\n",
       "<style scoped>\n",
       "    .dataframe tbody tr th:only-of-type {\n",
       "        vertical-align: middle;\n",
       "    }\n",
       "\n",
       "    .dataframe tbody tr th {\n",
       "        vertical-align: top;\n",
       "    }\n",
       "\n",
       "    .dataframe thead th {\n",
       "        text-align: right;\n",
       "    }\n",
       "</style>\n",
       "<table border=\"1\" class=\"dataframe\">\n",
       "  <thead>\n",
       "    <tr style=\"text-align: right;\">\n",
       "      <th></th>\n",
       "      <th>brand</th>\n",
       "      <th>brand_short</th>\n",
       "      <th>product</th>\n",
       "      <th>product_short</th>\n",
       "      <th>hex</th>\n",
       "      <th>Hue</th>\n",
       "      <th>saturation</th>\n",
       "      <th>values</th>\n",
       "      <th>lighting</th>\n",
       "      <th>group</th>\n",
       "    </tr>\n",
       "  </thead>\n",
       "  <tbody>\n",
       "    <tr>\n",
       "      <th>620</th>\n",
       "      <td>L'Oréal</td>\n",
       "      <td>lo</td>\n",
       "      <td>True Match</td>\n",
       "      <td>tms</td>\n",
       "      <td>eecfba</td>\n",
       "      <td>24.0</td>\n",
       "      <td>0.22</td>\n",
       "      <td>0.93</td>\n",
       "      <td>85</td>\n",
       "      <td>7</td>\n",
       "    </tr>\n",
       "    <tr>\n",
       "      <th>621</th>\n",
       "      <td>L'Oréal</td>\n",
       "      <td>lo</td>\n",
       "      <td>True Match</td>\n",
       "      <td>tms</td>\n",
       "      <td>e8c7b8</td>\n",
       "      <td>19.0</td>\n",
       "      <td>0.21</td>\n",
       "      <td>0.91</td>\n",
       "      <td>83</td>\n",
       "      <td>7</td>\n",
       "    </tr>\n",
       "    <tr>\n",
       "      <th>622</th>\n",
       "      <td>L'Oréal</td>\n",
       "      <td>lo</td>\n",
       "      <td>True Match</td>\n",
       "      <td>tms</td>\n",
       "      <td>f0cbb9</td>\n",
       "      <td>20.0</td>\n",
       "      <td>0.23</td>\n",
       "      <td>0.94</td>\n",
       "      <td>85</td>\n",
       "      <td>7</td>\n",
       "    </tr>\n",
       "    <tr>\n",
       "      <th>623</th>\n",
       "      <td>L'Oréal</td>\n",
       "      <td>lo</td>\n",
       "      <td>True Match</td>\n",
       "      <td>tms</td>\n",
       "      <td>e9c4b1</td>\n",
       "      <td>20.0</td>\n",
       "      <td>0.24</td>\n",
       "      <td>0.91</td>\n",
       "      <td>82</td>\n",
       "      <td>7</td>\n",
       "    </tr>\n",
       "    <tr>\n",
       "      <th>624</th>\n",
       "      <td>L'Oréal</td>\n",
       "      <td>lo</td>\n",
       "      <td>True Match</td>\n",
       "      <td>tms</td>\n",
       "      <td>eabea1</td>\n",
       "      <td>24.0</td>\n",
       "      <td>0.31</td>\n",
       "      <td>0.92</td>\n",
       "      <td>80</td>\n",
       "      <td>7</td>\n",
       "    </tr>\n",
       "  </tbody>\n",
       "</table>\n",
       "</div>"
      ],
      "text/plain": [
       "       brand brand_short     product product_short     hex   Hue  saturation  \\\n",
       "620  L'Oréal          lo  True Match           tms  eecfba  24.0        0.22   \n",
       "621  L'Oréal          lo  True Match           tms  e8c7b8  19.0        0.21   \n",
       "622  L'Oréal          lo  True Match           tms  f0cbb9  20.0        0.23   \n",
       "623  L'Oréal          lo  True Match           tms  e9c4b1  20.0        0.24   \n",
       "624  L'Oréal          lo  True Match           tms  eabea1  24.0        0.31   \n",
       "\n",
       "     values  lighting  group  \n",
       "620    0.93        85      7  \n",
       "621    0.91        83      7  \n",
       "622    0.94        85      7  \n",
       "623    0.91        82      7  \n",
       "624    0.92        80      7  "
      ]
     },
     "execution_count": 55,
     "metadata": {},
     "output_type": "execute_result"
    }
   ],
   "source": [
    "# Preview last 5 rows of data set\n",
    "df.tail()"
   ]
  },
  {
   "cell_type": "code",
   "execution_count": 90,
   "id": "b1f34bf6",
   "metadata": {},
   "outputs": [
    {
     "data": {
      "image/png": "[encoded data removed]",
      "text/plain": [
       "<Figure size 432x288 with 1 Axes>"
      ]
     },
     "metadata": {},
     "output_type": "display_data"
    }
   ],
   "source": [
    "# Plot Bar Plot\n",
    "sns.set_theme(style=\"whitegrid\")\n",
    "sns.barplot(data = df, x = df.\tgroup, y = df.saturation\t,palette = \"rocket_r\")\n",
    "plt.title(\"Range Of Saturation\")\n",
    "plt.show()"
   ]
  },
  {
   "cell_type": "code",
   "execution_count": 89,
   "id": "b4a2f222",
   "metadata": {},
   "outputs": [
    {
     "data": {
      "image/png": "[encoded data removed]",
      "text/plain": [
       "<Figure size 432x288 with 1 Axes>"
      ]
     },
     "metadata": {},
     "output_type": "display_data"
    }
   ],
   "source": [
    "# Plot Bar Plot\n",
    "sns.set_theme(style=\"whitegrid\")\n",
    "sns.barplot(data = df, x = df.\tgroup, y = df.Hue\t,palette = \"rocket_r\")\n",
    "plt.title(\"Range Of Hue\")\n",
    "plt.show()"
   ]
  },
  {
   "cell_type": "code",
   "execution_count": 96,
   "id": "80f09732",
   "metadata": {},
   "outputs": [
    {
     "data": {
      "image/png": "[encoded data removed]",
      "text/plain": [
       "<Figure size 432x288 with 1 Axes>"
      ]
     },
     "metadata": {},
     "output_type": "display_data"
    }
   ],
   "source": [
    "# Plot Bar Plot\n",
    "sns.set_theme(style=\"whitegrid\")\n",
    "sns.barplot(data = df, x = df.\tgroup, y = df.lighting\t  ,palette = \"rocket_r\")\n",
    "plt.title(\"Range Of Lighting\")\n",
    "plt.show()"
   ]
  },
  {
   "cell_type": "markdown",
   "id": "531d3ce3",
   "metadata": {},
   "source": [
    "Conclusion : Group 2 has very Low shades For Darker skintone While Group 0 has a perfect shades for all the skin tone\n",
    "Popular brands like Maybelline,L'Oréal,Blue Heaven have very low range of shades for all the skin tone."
   ]
  },
  {
   "cell_type": "code",
   "execution_count": null,
   "id": "7c0b19f8",
   "metadata": {},
   "outputs": [],
   "source": []
  },
  {
   "cell_type": "code",
   "execution_count": null,
   "id": "d03b3428",
   "metadata": {},
   "outputs": [],
   "source": []
  }
 ],
 "metadata": {
  "kernelspec": {
   "display_name": "Python 3 (ipykernel)",
   "language": "python",
   "name": "python3"
  },
  "language_info": {
   "codemirror_mode": {
    "name": "ipython",
    "version": 3
   },
   "file_extension": ".py",
   "mimetype": "text/x-python",
   "name": "python",
   "nbconvert_exporter": "python",
   "pygments_lexer": "ipython3",
   "version": "3.8.10"
  }
 },
 "nbformat": 4,
 "nbformat_minor": 5
}
